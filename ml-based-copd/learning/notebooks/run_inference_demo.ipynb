{
  "cells": [
    {
      "cell_type": "markdown",
      "metadata": {
        "id": "tn47VshJEmJs"
      },
      "source": [
        "# ML-based COPD inference demo\n",
        "\n",
        "This notebook demonstrates how to run inference using the ML-based COPD\n",
        "checkpoints and the UKB demo spirometry blow showcased in field\n",
        "[3066](https://biobank.ctsu.ox.ac.uk/crystal/field.cgi?id=3066).\n",
        "\n",
        "In this notebook, we download the ML-based COPD source code and model\n",
        "checkpoints. After installing dependencies, we generate a mock dataset using the\n",
        "UKB demo spirometry field from the UKB data showcase. See\n",
        "[`ukb_3066_demo_preprocessing.py`](https://github.com/Google-Health/genomics-research/blob/main/ml-based-copd/learning/ukb_3066_demo_preprocessing.py)\n",
        "for details. We then load the model checkpoints and run inference on the mock\n",
        "data.\n",
        "\n",
        "This notebook can be run on [colab.google](https://colab.google)."
      ]
    },
    {
      "cell_type": "markdown",
      "metadata": {
        "id": "WOhQMY9c_AiU"
      },
      "source": [
        "## Setup the notebook environment\n",
        "\n",
        "The following cells install dependencies and setup the notebook environment.\n",
        "Libraries can be imported from `genomics_research.ml_based_copd.learning`.\n",
        "Checkpoints are saved to `/content/checkpoints/ml_based_copd_member_ckpts`. Data\n",
        "will be saved to `/content/data/`."
      ]
    },
    {
      "cell_type": "code",
      "execution_count": null,
      "metadata": {
        "id": "ofwNHtli7RxH"
      },
      "outputs": [],
      "source": [
        "%%bash\n",
        "# Download code from the repository.\n",
        "git clone https://github.com/Google-Health/genomics-research genomics_research\n",
        "\n",
        "# Move libraries to an importable path.\n",
        "mv genomics_research/ml-based-copd/ genomics_research/ml_based_copd\n",
        "\n",
        "# Install requirements.\n",
        "pip install -r genomics_research/ml_based_copd/learning/requirements.txt\n",
        "\n",
        "# Download the model checkpoints.\n",
        "mkdir -p checkpoints\n",
        "wget -O checkpoints/ml_based_copd_member_ckpts.zip https://github.com/Google-Health/genomics-research/releases/download/v0.2.0-ML-COPD/ml_based_copd_member_ckpts.zip\n",
        "unzip -o checkpoints/ml_based_copd_member_ckpts.zip -d checkpoints\n",
        "\n",
        "# Make a data directory.\n",
        "mkdir -p data"
      ]
    },
    {
      "cell_type": "code",
      "execution_count": null,
      "metadata": {
        "id": "0PxeN2979Boo"
      },
      "outputs": [],
      "source": [
        "# Add the ML-based COPD source code directory to the system path.\n",
        "import sys\n",
        "\n",
        "sys.path.append(\"genomics_research/ml_based_copd/learning\")"
      ]
    },
    {
      "cell_type": "markdown",
      "metadata": {
        "id": "jmQPkIG2_Z1w"
      },
      "source": [
        "## Import dependencies, load checkpoints and data, and run inference"
      ]
    },
    {
      "cell_type": "code",
      "execution_count": null,
      "metadata": {
        "id": "K2N4XgLD9Z7P"
      },
      "outputs": [],
      "source": [
        "import pathlib\n",
        "\n",
        "import ml_collections\n",
        "\n",
        "from genomics_research.ml_based_copd.learning import train\n",
        "from genomics_research.ml_based_copd.learning import ukb_3066_demo_preprocessing\n",
        "from genomics_research.ml_based_copd.learning.configs import resnet18_fv_copd"
      ]
    },
    {
      "cell_type": "code",
      "execution_count": null,
      "metadata": {
        "id": "KMkbVvZs7s-a"
      },
      "outputs": [],
      "source": [
        "def load_demo_config(\n",
        "    data_dir: pathlib.Path,\n",
        "    version: str,\n",
        ") -> ml_collections.ConfigDict:\n",
        "  config = resnet18_fv_copd.get_config()\n",
        "  # Apply config overrides for the local demo dataset.\n",
        "  config.backbone_config.kwargs.input_names = 'flow_volume_pad_last'\n",
        "  config.dataset_config.data_dir = str(data_dir)\n",
        "  config.dataset_config.inputs = {'eid', 'flow_volume_pad_last'}\n",
        "  config.dataset_config.use_feature_scaling = False\n",
        "  config.dataset_config.version_suffix = version\n",
        "  return config"
      ]
    },
    {
      "cell_type": "code",
      "execution_count": null,
      "metadata": {
        "id": "izfcrVD8TSFI"
      },
      "outputs": [],
      "source": [
        "# The directory in which mock data will be written.\n",
        "DATA_DIR = pathlib.Path('/content/data')\n",
        "\n",
        "# A dataset version suffix included in the dataset filepaths.\n",
        "DATASET_VERSION = 'v00'\n",
        "\n",
        "# The working directory containing model checkpoints.\n",
        "WORK_DIR = '/content/checkpoints/ml_based_copd_member_ckpts/1'\n",
        "\n",
        "# Write the mock demo dataset to the local filesystem.\n",
        "ukb_3066_demo_preprocessing.write_demo_pkl(DATA_DIR, DATASET_VERSION)\n",
        "\n",
        "# Load an experimental config parameterized for the demo dataset.\n",
        "g_config = load_demo_config(DATA_DIR, DATASET_VERSION)\n",
        "\n",
        "# Generate predictions using the model checkpoints.\n",
        "train.predict(WORK_DIR, g_config)"
      ]
    },
    {
      "cell_type": "code",
      "execution_count": null,
      "metadata": {
        "id": "iwg3PeX4Rerg"
      },
      "outputs": [],
      "source": [
        "%%bash\n",
        "# Predictions are written to the working directory.\n",
        "ls /content/checkpoints/ml_based_copd_member_ckpts/1\n",
        "cat /content/checkpoints/ml_based_copd_member_ckpts/1/train_predictions.tsv\n",
        "cat /content/checkpoints/ml_based_copd_member_ckpts/1/validation_predictions.tsv"
      ]
    }
  ],
  "metadata": {
    "accelerator": "TPU",
    "colab": {
      "private_outputs": true,
      "provenance": []
    },
    "kernelspec": {
      "display_name": "Python 3",
      "name": "python3"
    },
    "language_info": {
      "name": "python"
    }
  },
  "nbformat": 4,
  "nbformat_minor": 0
}
