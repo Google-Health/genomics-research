{
  "nbformat": 4,
  "nbformat_minor": 0,
  "metadata": {
    "colab": {
      "name": "DeepNull_e2e.ipynb",
      "provenance": [],
      "collapsed_sections": []
    },
    "kernelspec": {
      "display_name": "Python 3",
      "name": "python3"
    }
  },
  "cells": [
    {
      "cell_type": "markdown",
      "metadata": {
        "id": "ZrwVQsM9TiUw"
      },
      "source": [
        "##### Copyright 2021 Google LLC.\n",
        "Licensed under the BSD 3-Clause License."
      ]
    },
    {
      "cell_type": "code",
      "metadata": {
        "id": "CpDUTVKYTowI"
      },
      "source": [
        "#@title Licensed under the BSD-3 License (the \"License\"); { display-mode: \"form\" }\n",
        "# Copyright 2021 Google LLC.\n",
        "#\n",
        "# Redistribution and use in source and binary forms, with or without modification,\n",
        "# are permitted provided that the following conditions are met:\n",
        "#\n",
        "# 1. Redistributions of source code must retain the above copyright notice, this\n",
        "#    list of conditions and the following disclaimer.\n",
        "#\n",
        "# 2. Redistributions in binary form must reproduce the above copyright notice,\n",
        "#    this list of conditions and the following disclaimer in the documentation\n",
        "#    and/or other materials provided with the distribution.\n",
        "#\n",
        "# 3. Neither the name of the copyright holder nor the names of its contributors\n",
        "#    may be used to endorse or promote products derived from this software without\n",
        "#    specific prior written permission.\n",
        "#\n",
        "# THIS SOFTWARE IS PROVIDED BY THE COPYRIGHT HOLDERS AND CONTRIBUTORS \"AS IS\" AND\n",
        "# ANY EXPRESS OR IMPLIED WARRANTIES, INCLUDING, BUT NOT LIMITED TO, THE IMPLIED\n",
        "# WARRANTIES OF MERCHANTABILITY AND FITNESS FOR A PARTICULAR PURPOSE ARE\n",
        "# DISCLAIMED. IN NO EVENT SHALL THE COPYRIGHT HOLDER OR CONTRIBUTORS BE LIABLE FOR\n",
        "# ANY DIRECT, INDIRECT, INCIDENTAL, SPECIAL, EXEMPLARY, OR CONSEQUENTIAL DAMAGES\n",
        "# (INCLUDING, BUT NOT LIMITED TO, PROCUREMENT OF SUBSTITUTE GOODS OR SERVICES;\n",
        "# LOSS OF USE, DATA, OR PROFITS; OR BUSINESS INTERRUPTION) HOWEVER CAUSED AND ON\n",
        "# ANY THEORY OF LIABILITY, WHETHER IN CONTRACT, STRICT LIABILITY, OR TORT\n",
        "# (INCLUDING NEGLIGENCE OR OTHERWISE) ARISING IN ANY WAY OUT OF THE USE OF THIS\n",
        "# SOFTWARE, EVEN IF ADVISED OF THE POSSIBILITY OF SUCH DAMAGE."
      ],
      "execution_count": null,
      "outputs": []
    },
    {
      "cell_type": "markdown",
      "metadata": {
        "id": "ltPJCG6pAUoc"
      },
      "source": [
        "# DeepNull: Modeling non-linear covariate effects improves phenotype prediction and association power\n",
        "\n",
        "<table class=\"tfo-notebook-buttons\" align=\"left\">\n",
        "  <td>\n",
        "    <a target=\"_blank\" href=\"https://colab.research.google.com/github/Google-Health/genomics-research/blob/main/nonlinear-covariate-gwas/DeepNull_e2e.ipynb\"><img src=\"https://www.tensorflow.org/images/colab_logo_32px.png\" />Run in Google Colab</a>\n",
        "  </td>\n",
        "  <td>\n",
        "    <a target=\"_blank\" href=\"https://github.com/Google-Health/genomics-research/tree/main/nonlinear-covariate-gwas/DeepNull_e2e.ipynb\"><img src=\"https://www.tensorflow.org/images/GitHub-Mark-32px.png\" />View source on GitHub</a>\n",
        "  </td>\n",
        "</table>"
      ]
    },
    {
      "cell_type": "markdown",
      "metadata": {
        "id": "mkUhqk40BAj6"
      },
      "source": [
        "This colab can be used to train the DeepNull model described in Hormozdiari et al 2021 for your GWAS input data formatted as PLINK or BOLT input files.\n",
        "\n",
        "The DeepNull architecture is as below:\n",
        "\n",
        "![fig_DeepNull_arch.png](data:image/png;base64,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)"
      ]
    },
    {
      "cell_type": "markdown",
      "metadata": {
        "id": "uiR4-VOt9NFX"
      },
      "source": [
        "### Dependencies & Prerequisites\n"
      ]
    },
    {
      "cell_type": "code",
      "metadata": {
        "id": "Y4EPviG4b2b8"
      },
      "source": [
        "# Install DeepNull into the colab.\n",
        "!pip install --upgrade pip\n",
        "!pip install --upgrade deepnull"
      ],
      "execution_count": null,
      "outputs": []
    },
    {
      "cell_type": "code",
      "metadata": {
        "id": "kZ0MdF1j8WJf"
      },
      "source": [
        "# Imports.\n",
        "import matplotlib.pyplot as plt\n",
        "import numpy as np\n",
        "import pandas as pd\n",
        "import seaborn as sns\n",
        "from sklearn import metrics as skmetrics\n",
        "import tensorflow as tf\n",
        "from typing import Dict, List\n",
        "\n",
        "from deepnull import config\n",
        "from deepnull import data\n",
        "from deepnull import metrics as metrics_lib\n",
        "from deepnull import model as model_lib\n",
        "from deepnull import train_eval"
      ],
      "execution_count": null,
      "outputs": []
    },
    {
      "cell_type": "markdown",
      "metadata": {
        "id": "2CK9RaDcoYPG"
      },
      "source": [
        "Note: Because the total number of features in the DeepNull model is relatively low, it is empirically as fast to run on a CPU-only machine as one with either GPU or TPU accelerators. Ensure you have a CPU-only machine in the following way:\n",
        "\n",
        "Select \"Runtime\" -> \"Change runtime type\" -> \"Hardware accelerator\" -> \"None\".\n",
        "\n",
        "The following snippet will verify that we are not using a GPU:"
      ]
    },
    {
      "cell_type": "code",
      "metadata": {
        "id": "qP_4Xr8vpA42"
      },
      "source": [
        "if not tf.test.gpu_device_name():\n",
        "  print('Good... you are not unnecessarily using a GPU.')\n",
        "else:\n",
        "  print(f'WARNING: Found unneccessary GPU: {tf.test.gpu_device_name()}')"
      ],
      "execution_count": null,
      "outputs": []
    },
    {
      "cell_type": "markdown",
      "metadata": {
        "id": "ulTreH7h2rLc"
      },
      "source": [
        "## Train your own DeepNull model\n",
        "\n",
        "The below cells run the code defined above to train your own DeepNull model and provide predictions for a PLINK- or BOLT-formatted input file.\n",
        "\n",
        "### Load Dataset\n",
        "\n",
        "First, to train a DeepNull model on your data, your data must be accessible to this colab. You can upload a file from your local machine by clicking the Folder icon on the left of the colab and then the \"Upload to session storage\" button. Once that successfully completes, your input file should be available within the colab at `/content/<filename>` (the exact path can be manually extracted by clicking the three dots to the right of the filename and selecting \"Copy path\").\n",
        "\n",
        "### Required inputs"
      ]
    },
    {
      "cell_type": "code",
      "metadata": {
        "id": "IEJnvD0n28Vm"
      },
      "source": [
        "input_tsv = '/content/my_input.tsv'  #@param {type: \"string\"}\n",
        "target_phenotype = ''  #@param {type: \"string\"}\n",
        "covariate_predictors = 'age, sex, genotyping_array'  #@param {type: \"string\"}\n",
        "num_folds = 5  #@param {type: \"integer\"}\n",
        "input_data_missing_value = 'NA'  #@param {type: \"raw\"}\n",
        "output_column_name = 'deepnull_prediction'  #@param {type: \"string\"}\n",
        "output_tsv = '/content/my_output.tsv'  #@param {type: \"string\"}\n",
        "random_seed = 14475  #@param {type: \"integer\"}"
      ],
      "execution_count": null,
      "outputs": []
    },
    {
      "cell_type": "markdown",
      "metadata": {
        "id": "qOgOfl7J4pbW"
      },
      "source": [
        "#### Advanced options"
      ]
    },
    {
      "cell_type": "code",
      "metadata": {
        "id": "AWaGHJ-c4ooW"
      },
      "source": [
        "# These are the parameters used in Hormozdiari et al 2021. The definition of\n",
        "# each parameter is given in the config class in deepnull/config.py. Note that\n",
        "# XGBoost models are also available by specifying config.XGBOOST.\n",
        "full_config = config.get_config(config.DEEPNULL)\n",
        "\n",
        "# These parameters can be edited directly like in the following statement. Here\n",
        "# we train for many fewer epochs than a typical run so that the colab finishes\n",
        "# quickly. Note that this will likely cause the following cell to complain that\n",
        "# there is poor performance across data folds, since the model folds do not\n",
        "# converge.\n",
        "full_config.training_config.num_epochs = 2"
      ],
      "execution_count": null,
      "outputs": []
    },
    {
      "cell_type": "markdown",
      "metadata": {
        "id": "SmlMc0Vt570m"
      },
      "source": [
        "## Run the model!"
      ]
    },
    {
      "cell_type": "code",
      "metadata": {
        "id": "_sTHU6cW57KJ"
      },
      "source": [
        "# Load the input data.\n",
        "print(f'Loading input data from {input_tsv}...', flush=True)\n",
        "input_df, binary_field_mapping = data.load_plink_or_bolt_file(\n",
        "    input_tsv, missing_value=input_data_missing_value)\n",
        "covariates = data.parse_covariates(covariate_predictors)\n",
        "target_is_binary = data.is_binary(input_df[target_phenotype])\n",
        "\n",
        "# Train and evaluate the model. Note that the\n",
        "# \"WARNING:tensorflow:Layers in a Sequential model should only have a single...\"\n",
        "# warning can be safely ignored.\n",
        "print(f'Training and predicting DeepNull models for {num_folds} data folds...\\n',\n",
        "      flush=True)\n",
        "\n",
        "tf.random.set_seed(random_seed)\n",
        "outputs = train_eval.create_deepnull_prediction(\n",
        "    input_df=input_df,\n",
        "    target=target_phenotype,\n",
        "    target_is_binary=target_is_binary,\n",
        "    covariates=covariates,\n",
        "    full_config=full_config,\n",
        "    prediction_column=output_column_name,\n",
        "    num_folds=num_folds,\n",
        "    seed=random_seed,\n",
        "    # Where temporary outputs will be written.\n",
        "    logdir='/content/deepnull',\n",
        "    verbosity=1)\n",
        "output_df, validation_performance, test_perf_df = outputs\n",
        "\n",
        "if not metrics_lib.acceptable_model_performance(validation_performance):\n",
        "  print('\\n\\n##### Warning!! #####')\n",
        "  print('Poor performance across folds. Consider rerunning this cell with an')\n",
        "  print('alternative seed as input before writing out the results.')"
      ],
      "execution_count": null,
      "outputs": []
    },
    {
      "cell_type": "code",
      "metadata": {
        "id": "eeuaZuU8faww"
      },
      "source": [
        "# Write the output file.\n",
        "print(f'\\nWriting final predictions to {output_tsv}...', flush=True)\n",
        "data.write_plink_or_bolt_file(output_df,\n",
        "                              path_or_buf=output_tsv,\n",
        "                              binary_column_mapping=binary_field_mapping,\n",
        "                              missing_value=input_data_missing_value)\n",
        "\n",
        "if output_tsv.startswith('/content/'):\n",
        "  print(f'To see the output file \"{output_tsv}\", right-click in the \"Files\" '\n",
        "        'section and select \"Refresh\".', flush=True)"
      ],
      "execution_count": null,
      "outputs": []
    },
    {
      "cell_type": "markdown",
      "metadata": {
        "id": "zBZvlzWA-wr9"
      },
      "source": [
        "#### Visualize the performance of the DeepNull model across data folds."
      ]
    },
    {
      "cell_type": "code",
      "metadata": {
        "id": "ke0YDoKy7QE3"
      },
      "source": [
        "def plot_binary_model_performance(\n",
        "    validation_summary_stats: List[Dict[str, float]],\n",
        "    test_performance_df: pd.DataFrame,\n",
        "    label_col: str,\n",
        "    prediction_col: str):\n",
        "  \"\"\"Plots performance for binary traits.\"\"\"\n",
        "  num_folds = len(validation_summary_stats)\n",
        "  fig, axs = plt.subplots(1, num_folds, figsize=(num_folds * 4, 5),\n",
        "                          sharex=True, sharey=True)\n",
        "  fold_column = f'{label_col}_deepnull_eval_fold'\n",
        "  for fold, val_performance in enumerate(validation_summary_stats):\n",
        "    fold_mask = test_performance_df[fold_column] == fold\n",
        "    test_fold_df = test_performance_df[fold_mask]\n",
        "    ax = axs[fold]\n",
        "    sns.regplot(data=test_fold_df, x=prediction_col, y=label_col, ax=ax,\n",
        "                logistic=True, scatter_kws={'alpha': 0.5})\n",
        "    # DeepNull and XGBoost name their equivalent metrics slightly differently.\n",
        "    val_auroc = val_performance.get('auroc') or val_performance.get('auc')\n",
        "    val_auprc = val_performance.get('auprc') or val_performance.get('aucpr')\n",
        "    test_auroc = skmetrics.roc_auc_score(test_fold_df[label_col],\n",
        "                                         test_fold_df[prediction_col])\n",
        "    test_auprc = skmetrics.average_precision_score(test_fold_df[label_col],\n",
        "                                                   test_fold_df[prediction_col])\n",
        "    ax.set_title(f'Fold {fold}\\n'\n",
        "                 f'Validation AUROC: {val_auroc:.2f}\\n'\n",
        "                 f'Validation AUPRC: {val_auprc:.2f}\\n'\n",
        "                 f'Test AUROC: {test_auroc:.2f}\\n'\n",
        "                 f'Test AUPRC: {test_auprc:.2f}')\n",
        "  plt.tight_layout()\n",
        "\n",
        "\n",
        "def plot_quantitative_model_performance(\n",
        "    validation_summary_stats: List[Dict[str, float]],\n",
        "    test_performance_df: pd.DataFrame,\n",
        "    label_col: str,\n",
        "    prediction_col: str):\n",
        "  \"\"\"Plots performance for quantitative traits.\"\"\"\n",
        "  num_folds = len(validation_summary_stats)\n",
        "  fig, axs = plt.subplots(1, num_folds, figsize=(num_folds * 4, 5),\n",
        "                          sharex=True, sharey=True)\n",
        "  fold_column = f'{label_col}_deepnull_eval_fold'\n",
        "  for fold, val_performance in enumerate(validation_summary_stats):\n",
        "    fold_mask = test_performance_df[fold_column] == fold\n",
        "    test_fold_df = test_performance_df[fold_mask]\n",
        "    ax = axs[fold]\n",
        "    sns.regplot(data=test_fold_df, x=prediction_col, y=label_col, ax=ax,\n",
        "                scatter_kws={'alpha': 0.5})\n",
        "    # DeepNull and XGBoost name their equivalent metrics slightly differently.\n",
        "    val_mse = val_performance.get('mse') or val_performance.get('rmse')**2\n",
        "    val_corr = val_performance.get('tf_pearson') or val_performance.get('pearson')\n",
        "    test_mse = np.square(test_fold_df[label_col] - test_fold_df[prediction_col]).mean()\n",
        "    test_corr = np.corrcoef(test_fold_df[label_col], test_fold_df[prediction_col])[0, 1]\n",
        "    ax.set_title(f'Fold {fold}\\n'\n",
        "                 f'Validation MSE: {val_mse:.2f}\\n'\n",
        "                 f'Validation Pearson R: {val_corr:.2f}\\n'\n",
        "                 f'Test MSE: {test_mse:.2f}\\n'\n",
        "                 f'Test Pearson R: {test_corr:.2f}')\n",
        "  plt.tight_layout()"
      ],
      "execution_count": null,
      "outputs": []
    },
    {
      "cell_type": "code",
      "metadata": {
        "id": "3w2h1z5E-snM"
      },
      "source": [
        "if target_is_binary:\n",
        "  plot_binary_model_performance(\n",
        "      validation_summary_stats=validation_performance,\n",
        "      test_performance_df=test_perf_df,\n",
        "      label_col=target_phenotype,\n",
        "      prediction_col=output_column_name)\n",
        "else:\n",
        "  plot_quantitative_model_performance(\n",
        "      validation_summary_stats=validation_performance,\n",
        "      test_performance_df=test_perf_df,\n",
        "      label_col=target_phenotype,\n",
        "      prediction_col=output_column_name)"
      ],
      "execution_count": null,
      "outputs": []
    }
  ]
}
